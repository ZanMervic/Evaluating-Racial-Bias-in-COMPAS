{
 "cells": [
  {
   "cell_type": "code",
   "execution_count": 16,
   "metadata": {},
   "outputs": [
    {
     "name": "stdout",
     "output_type": "stream",
     "text": [
      "RULELIST:\n",
      "if [priors_count=< 10 && not age=< 20]:\n",
      "  prediction = False\n",
      "else \n",
      "  prediction = True\n",
      "RULELIST:\n",
      "if [priors_count=< 10 && not sex=Male]:\n",
      "  prediction = False\n",
      "else if [age=20 - 40 && race=African-American]:\n",
      "  prediction = True\n",
      "else if [priors_count=< 10 && not age=< 20]:\n",
      "  prediction = False\n",
      "else \n",
      "  prediction = True\n",
      "RULELIST:\n",
      "if [priors_count=< 10 && not age=< 20]:\n",
      "  prediction = False\n",
      "else \n",
      "  prediction = True\n",
      "RULELIST:\n",
      "if [priors_count=< 10 && not sex=Male]:\n",
      "  prediction = False\n",
      "else if [age=20 - 40 && race=African-American]:\n",
      "  prediction = True\n",
      "else if [priors_count=< 10 && not age=< 20]:\n",
      "  prediction = False\n",
      "else \n",
      "  prediction = True\n",
      "RULELIST:\n",
      "if [priors_count=< 10 && not sex=Male]:\n",
      "  prediction = False\n",
      "else if [age=20 - 40 && race=African-American]:\n",
      "  prediction = True\n",
      "else if [priors_count=< 10 && not age=< 20]:\n",
      "  prediction = False\n",
      "else \n",
      "  prediction = True\n",
      "Average accuracy: 0.6097866884274652\n",
      "Predictions: [array([False, False, False, ..., False, False, False]), array([ True, False,  True, ..., False,  True, False]), array([False, False, False, ..., False,  True, False]), array([False, False,  True, ..., False, False, False]), array([False, False,  True, ..., False, False, False])]\n"
     ]
    }
   ],
   "source": [
    "from corels import *\n",
    "from sklearn.model_selection import KFold\n",
    "\n",
    "# Load the dataset\n",
    "X, y, _, _ = load_from_csv(\"data/corels_compas_features.csv\")\n",
    "\n",
    "# Number of folds\n",
    "n_folds = 5\n",
    "kf = KFold(n_splits=n_folds)\n",
    "\n",
    "# Create the CorelsClassifier with a maximum of 10000 iterations\n",
    "c = CorelsClassifier(n_iter=10000)\n",
    "\n",
    "# Prepare to collect the accuracies from each fold\n",
    "accuracies = []\n",
    "predictions = []\n",
    "\n",
    "# Start the KFold cross-validation\n",
    "for train_index, test_index in kf.split(X):\n",
    "    X_train, X_test = X[train_index], X[test_index]\n",
    "    y_train, y_test = y[train_index], y[test_index]\n",
    "\n",
    "    # Fit the classifier on the training set\n",
    "    # c.fit(X_train, y_train, features=[\"Age=18-20\",\"Age=18-22\",\"Age=18-25\",\"Age=24-30\",\"Age=24-40\",\"Age>=30\",\"Age<=40\",\"Age<=45\",\"Gender=Male\",\"Race=African-American\",\"Race=Caucasian\",\"Race=Asian\",\"Race=Hispanic\",\"Race=Native-American\",\"Race=Other\",\"Juvenile-Felonies=0\",\"Juvenile-Felonies=1-3\",\"Juvenile-Felonies>3\",\"Juvenile-Crimes=0\",\"Juvenile-Crimes=1-3\",\"Juvenile-Crimes>3\",\"Juvenile-Crimes>5\",\"Prior-Crimes=0\",\"Prior-Crimes=1-3\",\"Prior-Crimes>3\",\"Prior-Crimes>5\",\"Current-Charge-Degree=Misdemeanor\"])\n",
    "    c.fit(X_train, y_train, features=[\"age=< 20\",\"age=20 - 40\",\"age=60 - 80\",\"sex=Male\",\"priors_count=< 10\",\"priors_count=20 - 30\",\"priors_count=>= 30\",\"juv_fel_count=< 5\",\"juv_fel_count=5 - 10\",\"c_charge_degree=F\",\"race=African-American\",\"race=Asian\",\"race=Caucasian\",\"race=Native American\",\"race=Other\"])\n",
    "\n",
    "    # Score the classifier on the test set\n",
    "    prediction = c.predict(X_test)\n",
    "    predictions.append(prediction)\n",
    "    accuracy = c.score(X_test, y_test)\n",
    "    accuracies.append(accuracy)\n",
    "\n",
    "# Calculate the average accuracy across all folds\n",
    "average_accuracy = sum(accuracies) / n_folds\n",
    "print(\"Average accuracy:\", average_accuracy)\n",
    "\n",
    "print(\"Predictions:\", predictions)\n"
   ]
  }
 ],
 "metadata": {
  "kernelspec": {
   "display_name": "corels",
   "language": "python",
   "name": "python3"
  },
  "language_info": {
   "codemirror_mode": {
    "name": "ipython",
    "version": 3
   },
   "file_extension": ".py",
   "mimetype": "text/x-python",
   "name": "python",
   "nbconvert_exporter": "python",
   "pygments_lexer": "ipython3",
   "version": "3.7.12"
  }
 },
 "nbformat": 4,
 "nbformat_minor": 2
}
